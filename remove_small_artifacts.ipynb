{
 "cells": [
  {
   "cell_type": "code",
   "execution_count": null,
   "metadata": {},
   "outputs": [],
   "source": [
    "import numpy as np\n",
    "import imageio as iio\n",
    "from scipy import ndimage\n",
    "from glob import glob\n",
    "from airxd_cnn.transforms import powder_normalize\n",
    "from scipy.ndimage import label\n",
    "from skimage.measure import regionprops\n",
    "from pathlib import Path\n",
    "import os"
   ]
  },
  {
   "cell_type": "code",
   "execution_count": 3,
   "metadata": {},
   "outputs": [],
   "source": [
    "def filter_connected_components_by_size(mask, min_size, max_size=None):\n",
    "    \"\"\"\n",
    "    Filters connected components in the mask based on size.\n",
    "    \n",
    "    Parameters:\n",
    "        mask (ndarray): Binary mask where spots are marked as 1, and the background is 0.\n",
    "        min_size (int): Minimum number of pixels for a connected component to be kept.\n",
    "        max_size (int, optional): Maximum number of pixels for a connected component to be kept. If None, no upper limit.\n",
    "        \n",
    "    Returns:\n",
    "        filtered_mask (ndarray): Mask with only the connected components that meet the size criteria.\n",
    "    \"\"\"\n",
    "    # Label each connected component in the binary mask\n",
    "    labeled_mask, _ = label(mask)\n",
    "    \n",
    "    # Initialize an empty mask to hold the filtered components\n",
    "    filtered_mask = np.zeros_like(mask)\n",
    "    \n",
    "    # Get properties of labeled regions\n",
    "    regions = regionprops(labeled_mask)\n",
    "    \n",
    "    for region in regions:\n",
    "        # Check the size of each region\n",
    "        region_size = region.area\n",
    "        if region_size >= min_size and (max_size is None or region_size <= max_size):\n",
    "            # Add this region to the filtered mask\n",
    "            filtered_mask[labeled_mask == region.label] = 1\n",
    "    \n",
    "    return filtered_mask\n"
   ]
  },
  {
   "cell_type": "code",
   "execution_count": null,
   "metadata": {},
   "outputs": [],
   "source": []
  },
  {
   "cell_type": "code",
   "execution_count": 10,
   "metadata": {},
   "outputs": [
    {
     "name": "stdout",
     "output_type": "stream",
     "text": [
      "Masking images for material battery1\n",
      "Masking images for material battery2\n",
      "Masking images for material battery3\n",
      "Masking images for material battery4\n",
      "Masking images for material Nickel\n"
     ]
    }
   ],
   "source": [
    "#Apply artifact masking procedure\n",
    "\n",
    "base_dir = 'data'\n",
    "materials_directories = ['battery1', 'battery2', 'battery3', 'battery4', 'Nickel']\n",
    "\n",
    "for materials in materials_directories:\n",
    "    image_dir = base_dir + '/' + materials\n",
    "\n",
    "    #Get sub image list\n",
    "    mask_list = glob(image_dir + '/masks/*.tif')\n",
    "    thresholded_mask_dir = image_dir + '/thresholded_mask'\n",
    "    \n",
    "    #Create directory for masked directories\n",
    "    if not os.path.exists(thresholded_mask_dir):\n",
    "        os.mkdir(thresholded_mask_dir)\n",
    "    \n",
    "    print(f'Masking images for material {materials}')\n",
    "    #For each material take each mask in the mask list and run the island filter on it\n",
    "    for mask_path in mask_list:\n",
    "        mask = iio.v2.volread(mask_path)\n",
    "        thresholded_mask = filter_connected_components_by_size(mask, 5)\n",
    "\n",
    "        thresholded_mask_path = os.path.join(thresholded_mask_dir, os.path.split(mask_path)[-1])\n",
    "\n",
    "        #Write new image\n",
    "        iio.imwrite(thresholded_mask_path, thresholded_mask)\n",
    "\n"
   ]
  },
  {
   "cell_type": "markdown",
   "metadata": {},
   "source": [
    "# Mutual Information Pruning"
   ]
  },
  {
   "cell_type": "code",
   "execution_count": 12,
   "metadata": {},
   "outputs": [],
   "source": [
    "from sklearn.metrics import mutual_info_score"
   ]
  },
  {
   "cell_type": "code",
   "execution_count": 59,
   "metadata": {},
   "outputs": [],
   "source": [
    "def MI(x, y, bins):\n",
    "    c_xy = np.histogram2d(x, y, bins)[0]\n",
    "    return mutual_info_score(None,None, contingency=c_xy)\n",
    "\n",
    "def calculate_MI(images):\n",
    "    n = len(images)\n",
    "    mi_matrix = np.zeros((n, n))\n",
    "\n",
    "    for i in range(n):\n",
    "        for j in range(i, n):\n",
    "            mi = MI(images[i].flatten(), images[j].flatten(), 256)\n",
    "            mi_matrix[i,j] = mi\n",
    "            mi_matrix[j,i] = mi #Symmetry\n",
    "\n",
    "    return mi_matrix\n",
    "\n",
    "def cosine_similarity(u, v):\n",
    "    norm_u = np.linalg.norm(u)\n",
    "    norm_v = np.linalg.norm(v)\n",
    "    if norm_u == 0 or norm_v == 0:\n",
    "        return 0\n",
    "    \n",
    "    return np.dot(u,v)/(norm_u * norm_v)\n",
    "\n",
    "def prune_images(mi_matrix, threshold, number):\n",
    "    \n",
    "    selected_images = []\n",
    "\n",
    "    #Select the n most \"unique\" images\n",
    "    remaining_indices = set(range(mi_matrix.shape[0]))\n",
    "    for i in range(number):\n",
    "        mmi_values = { #Mean mutual information\n",
    "            i: np.mean([mi_matrix[i,j] for j in remaining_indices if i != j])\n",
    "            for i in remaining_indices\n",
    "        }\n",
    "\n",
    "        #Select image with lowest mean mutual information\n",
    "        selected_im = min(mmi_values, key = mmi_values.get)\n",
    "        selected_images.append(selected_im)\n",
    "\n",
    "        #Remove similar images\n",
    "        remaining_list = np.array(list(remaining_indices))\n",
    "        selected_vector = mi_matrix[selected_im, remaining_list]\n",
    "        similar_images = set()\n",
    "\n",
    "        for j in remaining_list:\n",
    "            if j == selected_im:\n",
    "                continue\n",
    "\n",
    "            mask = (remaining_list != selected_im) & (remaining_list != j)\n",
    "\n",
    "            #Compute dot product\n",
    "            similarity = cosine_similarity(selected_vector[mask], mi_matrix[j, remaining_list][mask])\n",
    "\n",
    "            if similarity >= threshold:\n",
    "                similar_images.add(j)\n",
    "        \n",
    "        #Remove similar images from list\n",
    "        remaining_indices -= {selected_im} | similar_images\n",
    "\n",
    "        if len(remaining_indices) <= 1:\n",
    "            break\n",
    "\n",
    "    return selected_images\n",
    "\n"
   ]
  },
  {
   "cell_type": "code",
   "execution_count": 82,
   "metadata": {},
   "outputs": [],
   "source": [
    "# Get representative images for data pruning\n",
    "pruned_im_list = []\n",
    "\n",
    "for materials in materials_directories:\n",
    "    image_dir = base_dir + '/' + materials\n",
    "\n",
    "    im_list = glob(image_dir + '/*.tif')\n",
    "    im_list.sort()\n",
    "\n",
    "    ims = []\n",
    "\n",
    "    for im in im_list:\n",
    "        raw_im = iio.v2.volread(im)\n",
    "        norm_im = powder_normalize(raw_im)\n",
    "        ims.append(norm_im)\n",
    "\n",
    "    mi_matrix = calculate_MI(ims)\n",
    "\n",
    "    indices = prune_images(mi_matrix, 0.9999, 4)\n",
    "\n",
    "    for idx in indices:\n",
    "        pruned_im_list.append(im_list[idx])\n",
    "\n"
   ]
  },
  {
   "cell_type": "code",
   "execution_count": 83,
   "metadata": {},
   "outputs": [
    {
     "data": {
      "text/plain": [
       "['data/battery1/TC-2-00000-00001.tif',\n",
       " 'data/battery1/TC-2-00000-00009.tif',\n",
       " 'data/battery1/TC-2-00000-00005.tif',\n",
       " 'data/battery1/TC-2-00000-00010.tif',\n",
       " 'data/battery2/Kinnto2-00000-00001.tif',\n",
       " 'data/battery2/Kinnto2-00000-00006.tif',\n",
       " 'data/battery2/Kinnto2-00000-00011.tif',\n",
       " 'data/battery3/Kinnto3-00000-00001.tif',\n",
       " 'data/battery4/BYS-900-00000-00015.tif',\n",
       " 'data/battery4/BYS-900-00000-00012.tif',\n",
       " 'data/battery4/BYS-900-00000-00009.tif',\n",
       " 'data/battery4/BYS-900-00000-00007.tif',\n",
       " 'data/Nickel/Ni83_ch3_RTto950_d700-00000.tif',\n",
       " 'data/Nickel/Ni83_ch3_RTto950_d700-00002.tif',\n",
       " 'data/Nickel/Ni83_ch3_RTto950_d700-00004.tif',\n",
       " 'data/Nickel/Ni83_ch3_RTto950_d700-00006.tif']"
      ]
     },
     "execution_count": 83,
     "metadata": {},
     "output_type": "execute_result"
    }
   ],
   "source": [
    "pruned_im_list"
   ]
  },
  {
   "cell_type": "code",
   "execution_count": 84,
   "metadata": {},
   "outputs": [],
   "source": [
    "import pickle"
   ]
  },
  {
   "cell_type": "code",
   "execution_count": 85,
   "metadata": {},
   "outputs": [],
   "source": [
    "with open('data/pruned_list.pkl', 'wb') as file:\n",
    "    pickle.dump(pruned_im_list, file)"
   ]
  },
  {
   "cell_type": "code",
   "execution_count": 75,
   "metadata": {},
   "outputs": [
    {
     "data": {
      "text/plain": [
       "12"
      ]
     },
     "execution_count": 75,
     "metadata": {},
     "output_type": "execute_result"
    }
   ],
   "source": [
    "#Create array of images\n",
    "ims = []\n",
    "\n",
    "im_list = glob('data/battery4/*.tif')\n",
    "im_list.sort()\n",
    "\n",
    "for im in im_list:\n",
    "    raw_im = iio.v2.volread(im)\n",
    "    norm_im = powder_normalize(raw_im)\n",
    "    ims.append(norm_im)\n",
    "\n",
    "len(ims)"
   ]
  },
  {
   "cell_type": "code",
   "execution_count": 76,
   "metadata": {},
   "outputs": [],
   "source": [
    "threshold = 0.05\n",
    "mi_matrix = calculate_MI(ims)\n",
    "# selected_indices = prune_images(mi_matrix,threhsold)"
   ]
  },
  {
   "cell_type": "code",
   "execution_count": null,
   "metadata": {},
   "outputs": [],
   "source": [
    "for i in range(len(ims)):\n",
    "    mi_matrix[i,i] = 0\n",
    "    \n"
   ]
  },
  {
   "cell_type": "code",
   "execution_count": 39,
   "metadata": {},
   "outputs": [],
   "source": [
    "import matplotlib.pyplot as plt"
   ]
  },
  {
   "cell_type": "code",
   "execution_count": 78,
   "metadata": {},
   "outputs": [
    {
     "data": {
      "text/plain": [
       "<matplotlib.image.AxesImage at 0x7fcbdb3c3a50>"
      ]
     },
     "execution_count": 78,
     "metadata": {},
     "output_type": "execute_result"
    },
    {
     "data": {
      "image/png": "[encoded data removed]",
      "text/plain": [
       "<Figure size 480x480 with 1 Axes>"
      ]
     },
     "metadata": {},
     "output_type": "display_data"
    }
   ],
   "source": [
    "mi_matrix_plot = mi_matrix\n",
    "# mi_matrix_plot[10,9] = 0\n",
    "# mi_matrix_plot[9,10] = 0\n",
    "\n",
    "plt.matshow(mi_matrix_plot)"
   ]
  },
  {
   "cell_type": "code",
   "execution_count": 69,
   "metadata": {},
   "outputs": [
    {
     "data": {
      "text/plain": [
       "0.999997011198471"
      ]
     },
     "execution_count": 69,
     "metadata": {},
     "output_type": "execute_result"
    }
   ],
   "source": [
    "cosine_similarity(mi_matrix[0,2:], mi_matrix[1,2:])"
   ]
  },
  {
   "cell_type": "code",
   "execution_count": 79,
   "metadata": {},
   "outputs": [
    {
     "data": {
      "text/plain": [
       "array([[0.        , 0.09105992, 0.08978032, 0.09088799, 0.08988344,\n",
       "        0.09025594, 0.08948642, 0.08989628, 0.08941883, 0.08901736,\n",
       "        0.08986697, 0.08849061],\n",
       "       [0.09105992, 0.        , 0.09078024, 0.09207352, 0.090915  ,\n",
       "        0.09143325, 0.09058066, 0.09081265, 0.09037422, 0.08995651,\n",
       "        0.09103179, 0.08968522],\n",
       "       [0.08978032, 0.09078024, 0.        , 0.09083198, 0.08980051,\n",
       "        0.09031911, 0.08966998, 0.08991451, 0.08942605, 0.08907289,\n",
       "        0.09005042, 0.08865367],\n",
       "       [0.09088799, 0.09207352, 0.09083198, 0.        , 0.0910881 ,\n",
       "        0.09173717, 0.09083885, 0.09114086, 0.09062179, 0.09025566,\n",
       "        0.09147023, 0.08991193],\n",
       "       [0.08988344, 0.090915  , 0.08980051, 0.0910881 , 0.        ,\n",
       "        0.09085333, 0.089776  , 0.09021989, 0.08980612, 0.08926779,\n",
       "        0.09049622, 0.08898763],\n",
       "       [0.09025594, 0.09143325, 0.09031911, 0.09173717, 0.09085333,\n",
       "        0.        , 0.09054061, 0.09094696, 0.09055367, 0.08995855,\n",
       "        0.09116565, 0.08972528],\n",
       "       [0.08948642, 0.09058066, 0.08966998, 0.09083885, 0.089776  ,\n",
       "        0.09054061, 0.        , 0.09020982, 0.08971217, 0.08937344,\n",
       "        0.09046494, 0.08909548],\n",
       "       [0.08989628, 0.09081265, 0.08991451, 0.09114086, 0.09021989,\n",
       "        0.09094696, 0.09020982, 0.        , 0.09014845, 0.08984671,\n",
       "        0.09097939, 0.08954223],\n",
       "       [0.08941883, 0.09037422, 0.08942605, 0.09062179, 0.08980612,\n",
       "        0.09055367, 0.08971217, 0.09014845, 0.        , 0.0894885 ,\n",
       "        0.09067701, 0.08934542],\n",
       "       [0.08901736, 0.08995651, 0.08907289, 0.09025566, 0.08926779,\n",
       "        0.08995855, 0.08937344, 0.08984671, 0.0894885 , 0.        ,\n",
       "        0.09094223, 0.0894779 ],\n",
       "       [0.08986697, 0.09103179, 0.09005042, 0.09147023, 0.09049622,\n",
       "        0.09116565, 0.09046494, 0.09097939, 0.09067701, 0.09094223,\n",
       "        0.        , 0.09071059],\n",
       "       [0.08849061, 0.08968522, 0.08865367, 0.08991193, 0.08898763,\n",
       "        0.08972528, 0.08909548, 0.08954223, 0.08934542, 0.0894779 ,\n",
       "        0.09071059, 0.        ]])"
      ]
     },
     "execution_count": 79,
     "metadata": {},
     "output_type": "execute_result"
    }
   ],
   "source": [
    "mi_matrix"
   ]
  },
  {
   "cell_type": "code",
   "execution_count": 80,
   "metadata": {},
   "outputs": [],
   "source": [
    "test = prune_images(mi_matrix, 0.99999, 4)"
   ]
  },
  {
   "cell_type": "code",
   "execution_count": 81,
   "metadata": {},
   "outputs": [
    {
     "data": {
      "text/plain": [
       "[11, 6]"
      ]
     },
     "execution_count": 81,
     "metadata": {},
     "output_type": "execute_result"
    }
   ],
   "source": [
    "test"
   ]
  },
  {
   "cell_type": "code",
   "execution_count": null,
   "metadata": {},
   "outputs": [],
   "source": []
  }
 ],
 "metadata": {
  "kernelspec": {
   "display_name": "airxd_cnn_new",
   "language": "python",
   "name": "python3"
  },
  "language_info": {
   "codemirror_mode": {
    "name": "ipython",
    "version": 3
   },
   "file_extension": ".py",
   "mimetype": "text/x-python",
   "name": "python",
   "nbconvert_exporter": "python",
   "pygments_lexer": "ipython3",
   "version": "3.11.8"
  }
 },
 "nbformat": 4,
 "nbformat_minor": 2
}
