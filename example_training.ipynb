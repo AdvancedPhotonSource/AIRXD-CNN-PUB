{
 "cells": [
  {
   "cell_type": "code",
   "execution_count": 1,
   "metadata": {},
   "outputs": [],
   "source": [
    "import os\n",
    "import imageio as iio\n",
    "from pathlib import Path\n",
    "import numpy as np\n",
    "from glob import glob\n",
    "import matplotlib.cm as cm\n",
    "import matplotlib.pyplot as plt\n",
    "\n",
    "#AIRXD model import\n",
    "from airxd.mask import MASK\n",
    "from airxd_cnn.cnn import ARIXD_CNN as cmodel\n",
    "from airxd.model import ARIXD\n",
    "from airxd.dataset import Dataset, parse_imctrl"
   ]
  },
  {
   "cell_type": "markdown",
   "metadata": {},
   "source": [
    "# Troubleshooting"
   ]
  },
  {
   "cell_type": "code",
   "execution_count": 13,
   "metadata": {},
   "outputs": [],
   "source": [
    "import torch\n",
    "import torch.nn.functional as F\n"
   ]
  },
  {
   "cell_type": "code",
   "execution_count": 14,
   "metadata": {},
   "outputs": [],
   "source": [
    "# Generate a random image for demonstration\n",
    "image = torch.rand(1, 1, 100, 100)  # Shape: (batch_size, channels, height, width)\n"
   ]
  },
  {
   "cell_type": "code",
   "execution_count": 19,
   "metadata": {},
   "outputs": [],
   "source": [
    "# Generate coordinates for the grid, ensuring they stay within image bounds\n",
    "grid_x = torch.linspace(-0.9, 0.9, 10)  # Values between -1 and 1 (normalized)\n",
    "grid_y = torch.linspace(-0.9, 0.9, 10)\n",
    "grid_y, grid_x = torch.meshgrid(grid_y, grid_x)\n",
    "grid = torch.stack((grid_x, grid_y), dim=-1)  # Shape: (10, 10, 2)\n",
    "\n",
    "# Reshape the grid to match the image dimensions\n",
    "grid = grid.view(1, 1, 10, 10, 2).repeat(1, 1, 100, 100, 1)  # Shape: (1, 1, 100, 100, 2)\n"
   ]
  },
  {
   "cell_type": "code",
   "execution_count": 20,
   "metadata": {},
   "outputs": [
    {
     "ename": "RuntimeError",
     "evalue": "grid_sampler(): expected 4D input and grid with same number of dimensions, but got input with sizes [1, 1, 100, 100] and grid with sizes [1, 1, 1000, 1000, 2]",
     "output_type": "error",
     "traceback": [
      "\u001b[0;31m---------------------------------------------------------------------------\u001b[0m",
      "\u001b[0;31mRuntimeError\u001b[0m                              Traceback (most recent call last)",
      "Cell \u001b[0;32mIn[20], line 1\u001b[0m\n\u001b[0;32m----> 1\u001b[0m cropped_images \u001b[38;5;241m=\u001b[39m \u001b[43mF\u001b[49m\u001b[38;5;241;43m.\u001b[39;49m\u001b[43mgrid_sample\u001b[49m\u001b[43m(\u001b[49m\u001b[43mimage\u001b[49m\u001b[43m,\u001b[49m\u001b[43m \u001b[49m\u001b[43mgrid\u001b[49m\u001b[43m,\u001b[49m\u001b[43m \u001b[49m\u001b[43mmode\u001b[49m\u001b[38;5;241;43m=\u001b[39;49m\u001b[38;5;124;43m'\u001b[39;49m\u001b[38;5;124;43mbilinear\u001b[39;49m\u001b[38;5;124;43m'\u001b[39;49m\u001b[43m,\u001b[49m\u001b[43m \u001b[49m\u001b[43mpadding_mode\u001b[49m\u001b[38;5;241;43m=\u001b[39;49m\u001b[38;5;124;43m'\u001b[39;49m\u001b[38;5;124;43mzeros\u001b[39;49m\u001b[38;5;124;43m'\u001b[39;49m\u001b[43m)\u001b[49m\n",
      "File \u001b[0;32m~/miniconda3/envs/airxd_cnn_fresh/lib/python3.11/site-packages/torch/nn/functional.py:4324\u001b[0m, in \u001b[0;36mgrid_sample\u001b[0;34m(input, grid, mode, padding_mode, align_corners)\u001b[0m\n\u001b[1;32m   4316\u001b[0m     warnings\u001b[38;5;241m.\u001b[39mwarn(\n\u001b[1;32m   4317\u001b[0m         \u001b[38;5;124m\"\u001b[39m\u001b[38;5;124mDefault grid_sample and affine_grid behavior has changed \u001b[39m\u001b[38;5;124m\"\u001b[39m\n\u001b[1;32m   4318\u001b[0m         \u001b[38;5;124m\"\u001b[39m\u001b[38;5;124mto align_corners=False since 1.3.0. Please specify \u001b[39m\u001b[38;5;124m\"\u001b[39m\n\u001b[1;32m   4319\u001b[0m         \u001b[38;5;124m\"\u001b[39m\u001b[38;5;124malign_corners=True if the old behavior is desired. \u001b[39m\u001b[38;5;124m\"\u001b[39m\n\u001b[1;32m   4320\u001b[0m         \u001b[38;5;124m\"\u001b[39m\u001b[38;5;124mSee the documentation of grid_sample for details.\u001b[39m\u001b[38;5;124m\"\u001b[39m\n\u001b[1;32m   4321\u001b[0m     )\n\u001b[1;32m   4322\u001b[0m     align_corners \u001b[38;5;241m=\u001b[39m \u001b[38;5;28;01mFalse\u001b[39;00m\n\u001b[0;32m-> 4324\u001b[0m \u001b[38;5;28;01mreturn\u001b[39;00m \u001b[43mtorch\u001b[49m\u001b[38;5;241;43m.\u001b[39;49m\u001b[43mgrid_sampler\u001b[49m\u001b[43m(\u001b[49m\u001b[38;5;28;43minput\u001b[39;49m\u001b[43m,\u001b[49m\u001b[43m \u001b[49m\u001b[43mgrid\u001b[49m\u001b[43m,\u001b[49m\u001b[43m \u001b[49m\u001b[43mmode_enum\u001b[49m\u001b[43m,\u001b[49m\u001b[43m \u001b[49m\u001b[43mpadding_mode_enum\u001b[49m\u001b[43m,\u001b[49m\u001b[43m \u001b[49m\u001b[43malign_corners\u001b[49m\u001b[43m)\u001b[49m\n",
      "\u001b[0;31mRuntimeError\u001b[0m: grid_sampler(): expected 4D input and grid with same number of dimensions, but got input with sizes [1, 1, 100, 100] and grid with sizes [1, 1, 1000, 1000, 2]"
     ]
    }
   ],
   "source": [
    "cropped_images = F.grid_sample(image, grid, mode='bilinear', padding_mode='zeros')"
   ]
  },
  {
   "cell_type": "code",
   "execution_count": null,
   "metadata": {},
   "outputs": [],
   "source": []
  },
  {
   "cell_type": "code",
   "execution_count": 1,
   "metadata": {},
   "outputs": [],
   "source": [
    "import einops\n",
    "import torch\n",
    "import numpy as np\n",
    "\n",
    "x = torch.rand((10,1,2880,2880))\n",
    "y = torch.rand((10,1,2880,2880))"
   ]
  },
  {
   "cell_type": "code",
   "execution_count": 2,
   "metadata": {},
   "outputs": [],
   "source": [
    "import qlty\n",
    "from qlty import qlty2D\n",
    "\n",
    "quilt = qlty2D.NCYXQuilt(X=2880,\n",
    "                         Y=2880,\n",
    "                         window=(256,256),\n",
    "                         step=(128,128),\n",
    "                         border=(64,64),\n",
    "                         border_weight=0)"
   ]
  },
  {
   "cell_type": "code",
   "execution_count": 3,
   "metadata": {},
   "outputs": [
    {
     "name": "stdout",
     "output_type": "stream",
     "text": [
      "x shape:  torch.Size([10, 1, 2880, 2880])\n",
      "y shape:  torch.Size([10, 1, 2880, 2880])\n",
      "x_bits shape: torch.Size([4840, 1, 256, 256])\n",
      "y_bits shape: torch.Size([4840, 1, 256, 256])\n"
     ]
    }
   ],
   "source": [
    "x_bits, y_bits = quilt.unstitch_data_pair(x,y)\n",
    "print(\"x shape: \",x.shape)\n",
    "print(\"y shape: \",y.shape)\n",
    "print(\"x_bits shape:\", x_bits.shape)\n",
    "print(\"y_bits shape:\", y_bits.shape)"
   ]
  },
  {
   "cell_type": "code",
   "execution_count": 5,
   "metadata": {},
   "outputs": [
    {
     "data": {
      "text/plain": [
       "tensor([[0.4766, 0.1971, 0.0431,  ..., 0.0057, 0.7003, 0.9482],\n",
       "        [0.0251, 0.6186, 0.1771,  ..., 0.4878, 0.6418, 0.1646],\n",
       "        [0.0487, 0.5537, 0.1498,  ..., 0.0083, 0.1717, 0.7881],\n",
       "        ...,\n",
       "        [0.3662, 0.4824, 0.6656,  ..., 0.0815, 0.6366, 0.3154],\n",
       "        [0.0837, 0.2683, 0.6037,  ..., 0.2525, 0.7902, 0.2660],\n",
       "        [0.3648, 0.0858, 0.0980,  ..., 0.9895, 0.4325, 0.4008]])"
      ]
     },
     "execution_count": 5,
     "metadata": {},
     "output_type": "execute_result"
    }
   ],
   "source": [
    "#Calculate size of x_bits in megabytes\n",
    "x_bits.shape[0] * x_bits.itemsize / 1e6 #size of x_bits in megabytes"
   ]
  },
  {
   "cell_type": "code",
   "execution_count": 4,
   "metadata": {},
   "outputs": [],
   "source": [
    "y_mock = torch.rand( (8410,17,16,16))"
   ]
  },
  {
   "cell_type": "code",
   "execution_count": 5,
   "metadata": {},
   "outputs": [],
   "source": [
    "y_stiched, weights = quilt.stitch(y_mock)"
   ]
  },
  {
   "cell_type": "code",
   "execution_count": 10,
   "metadata": {},
   "outputs": [
    {
     "data": {
      "text/plain": [
       "tensor(1.0000e-08)"
      ]
     },
     "execution_count": 10,
     "metadata": {},
     "output_type": "execute_result"
    }
   ],
   "source": [
    "weights[0][0]"
   ]
  },
  {
   "cell_type": "code",
   "execution_count": 5,
   "metadata": {},
   "outputs": [],
   "source": [
    "import skimage\n",
    "from skimage.morphology import disk\n",
    "from skimage.filters import rank\n",
    "from skimage import exposure\n",
    "\n",
    "def normalize(image):\n",
    "        footprint = disk(32)\n",
    "        img = np.log(np.abs(image) - np.min(image) + 1e-7)\n",
    "        p2, p98 = np.percentile(img, (2, 98))\n",
    "        img = exposure.rescale_intensity(img, in_range=(p2, p98))\n",
    "        img = skimage.util.img_as_ubyte(img)\n",
    "        img_eq = rank.equalize(img, footprint)\n",
    "        img_eq = img_eq.astype(float)/256.0\n",
    "        return img_eq  "
   ]
  },
  {
   "cell_type": "code",
   "execution_count": null,
   "metadata": {},
   "outputs": [],
   "source": [
    "from PIL import Image"
   ]
  },
  {
   "cell_type": "code",
   "execution_count": 3,
   "metadata": {},
   "outputs": [],
   "source": [
    "import time"
   ]
  },
  {
   "cell_type": "code",
   "execution_count": 13,
   "metadata": {},
   "outputs": [
    {
     "data": {
      "image/png": "[encoded data removed]",
      "text/plain": [
       "<Figure size 1000x1000 with 1 Axes>"
      ]
     },
     "metadata": {},
     "output_type": "display_data"
    },
    {
     "name": "stdout",
     "output_type": "stream",
     "text": [
      "Time to load image: 0.013443946838378906 seconds\n"
     ]
    }
   ],
   "source": [
    "temp_path = 'data/Nickel/masks/'\n",
    "images = glob(temp_path + '*.tif')\n",
    "\n",
    "i = 0\n",
    "\n",
    "#Time the code below\n",
    "start = time.time()\n",
    "\n",
    "test_im = iio.v2.volread(images[i])\n",
    "#test_im_norm = normalize(test_im)\n",
    "\n",
    "\n",
    "#Stop recording time\n",
    "end = time.time()\n",
    "#Plot positions of all nonzero elements in test_im\n",
    "plt.figure(figsize=(10,10))\n",
    "#If plotting regular images use vmin=0, vmax=15000\n",
    "plt.imshow(test_im, cmap='binary', origin='lower',)\n",
    "plt.title('Raw data')\n",
    "plt.axis('off')\n",
    "plt.tight_layout()\n",
    "plt.show()\n",
    "\n",
    "print(f'Time to load image: {end-start} seconds')"
   ]
  },
  {
   "cell_type": "code",
   "execution_count": 12,
   "metadata": {},
   "outputs": [
    {
     "data": {
      "text/plain": [
       "33.1776"
      ]
     },
     "execution_count": 12,
     "metadata": {},
     "output_type": "execute_result"
    }
   ],
   "source": [
    "#Get memory size of test_im\n",
    "test_im.size * test_im.itemsize / 1e6 #size of test_im in megabytes"
   ]
  },
  {
   "cell_type": "markdown",
   "metadata": {},
   "source": [
    "# Create/load a specific dataset\n",
    "\n",
    "Here, we'll be utilizing the auto-masking process developed in __ to automatically generate labelled/segmented data for artifact identification.\n"
   ]
  },
  {
   "cell_type": "code",
   "execution_count": null,
   "metadata": {},
   "outputs": [],
   "source": [
    "Samples = glob('data/*')\n",
    "mask_folder = 'masks'\n",
    "\n",
    "for path_to_sample in Samples:\n",
    "\n",
    "    path_to_sample = path_to_sample + '/'\n",
    "\n",
    "    if not os.path.isdir(path_to_sample + mask_folder):\n",
    "        #Grabbing imctrl file and parsing its contents. If no imctrl file exists, skip this\n",
    "        try:\n",
    "            imctrl_file = glob(path_to_sample + '*.imctrl')[0]\n",
    "        except:\n",
    "            continue\n",
    "        else:\n",
    "            #Assign controls\n",
    "            controls = parse_imctrl(imctrl_file)\n",
    "\n",
    "            #Creating mask, need to specify image size here\n",
    "            #This MASK function was developed from a previous publication by Yanxon et al.\n",
    "            mask = MASK(controls=controls, shape=(2880,2880))\n",
    "\n",
    "            #Creating mask directory\n",
    "            os.mkdir(path_to_sample + mask_folder)\n",
    "            paths = glob(path_to_sample + '*.tif')\n",
    "\n",
    "            #Generate masked image for each sample image and save it in a mask subdirectory for a specific dataset\n",
    "            for path in paths:\n",
    "                image_name = path.split('/')[-1][:-4]\n",
    "                image = iio.v2.volread(path)\n",
    "                result = mask.AutoSpotMask(image, esdmul=7.0)\n",
    "                iio.v2.imwrite(path_to_sample + f'{mask_folder}/{image_name}_mask.tif', result)\n"
   ]
  },
  {
   "cell_type": "markdown",
   "metadata": {},
   "source": [
    "# Creating dataset/dataloaders for training"
   ]
  },
  {
   "cell_type": "markdown",
   "metadata": {},
   "source": [
    "First we'll apply a normalization process to the images and save it as a separate image. We don't apply this as part of a transformation pipeline because we normalize an entire powder diffraction images (2880 x 2800 pixels), while the input windows (256 x 256 pixels) used for training and inference are not each normalized separately. \n",
    "\n",
    "This way we perform the normalization once for every image independently, and we can then dice up the image however we choose."
   ]
  },
  {
   "cell_type": "code",
   "execution_count": 2,
   "metadata": {},
   "outputs": [],
   "source": [
    "import re\n",
    "import airxd_cnn\n",
    "from airxd_cnn.transforms import powder_normalize\n",
    "\n",
    "classes = [f for f in glob('data/Nickel')]\n",
    "masks = [f for f in glob('data/*/masks/*.tif')]\n",
    "\n"
   ]
  },
  {
   "cell_type": "code",
   "execution_count": 4,
   "metadata": {},
   "outputs": [],
   "source": [
    "#Normalize images within each class folder and save in separate subfolder\n",
    "normalized_dir = 'data/normalized'\n",
    "if not os.path.isdir(normalized_dir):\n",
    "    os.mkdir(normalized_dir)\n",
    "\n",
    "for path_to_class in classes:\n",
    "    path_identifier = path_to_class + '/' + '*.tif'\n",
    "    sample_paths = glob(path_identifier)\n",
    "\n",
    "    #Load images, normalize and save them\n",
    "    for path in sample_paths:\n",
    "        image_name = path.split('/')[-1][:-4]\n",
    "        image = iio.v2.volread(path)\n",
    "        image_norm = powder_normalize(image)\n",
    "        iio.v2.imwrite(normalized_dir + f'/{image_name}_norm.tif', image_norm)\n",
    "        \n",
    "\n"
   ]
  },
  {
   "cell_type": "markdown",
   "metadata": {},
   "source": [
    "Here we'll grab put all relevant tif files into a dataset"
   ]
  },
  {
   "cell_type": "code",
   "execution_count": 14,
   "metadata": {},
   "outputs": [],
   "source": [
    "#Create dataset object from data files\n",
    "Samples = [f for f in glob('data/*') if \"Nickel\" in f]\n",
    "dataset = Dataset(n=len(Samples))\n",
    "\n",
    "#Grab all tif files from directories in Samples\n",
    "dataset.get_data(Samples, label_ext = '.tif')\n",
    "\n"
   ]
  },
  {
   "cell_type": "code",
   "execution_count": null,
   "metadata": {},
   "outputs": [],
   "source": [
    "#Check how much available memory exists \n",
    "#Note: This is not the same as the amount of memory used by the dataset\n",
    "#This is the amount of memory available for the dataset to use\n"
   ]
  },
  {
   "cell_type": "code",
   "execution_count": 15,
   "metadata": {},
   "outputs": [
    {
     "data": {
      "text/plain": [
       "729.9072"
      ]
     },
     "execution_count": 15,
     "metadata": {},
     "output_type": "execute_result"
    }
   ],
   "source": [
    "i = 0\n",
    "dataset.images[i].size * dataset.images[i].itemsize / 1e6 #size of dataset images in megabytes"
   ]
  },
  {
   "cell_type": "markdown",
   "metadata": {},
   "source": [
    "Next, we need to define our model parameters. This includes quilter params (for stitching pytorch tensors), and model params (for the UNet).\n",
    "\n",
    "The purpose of a quilter here is to cut up a large tensor into smaller overlapping pieces which can then be fed into a GPU card (in case there are memory limitations).\n",
    "\n",
    "Here, we have:<br>\n",
    "*N* = window size (of a patch)<br>\n",
    "*M* = Step size (how much the patch/window is moved)<br>\n",
    "*B* = Border size (Border of window which is multiplied by border weight)<br>\n",
    "\n",
    "E.g. A window size of 256, step size of 128, with a border size of 32 means that\n",
    "we take patches of size (256-64 = 192) x 192. These 192 x 192 blocks overlap with one another, since we only take a step of size 128 when moving to a new patch."
   ]
  },
  {
   "cell_type": "code",
   "execution_count": null,
   "metadata": {},
   "outputs": [],
   "source": [
    "#Define quilter hyperparams\n",
    "#Quilter takes a large tensor and cuts it up into smaller pieces in case the whole tensor\n",
    "#does not fit \n",
    "N = 256 #Patch size\n",
    "M = N // 2\n",
    "B = M // 4\n",
    "\n",
    "#Define quilter params\n",
    "quilter_params = {'Y': 2880, 'X': 2880,\n",
    "                  'window': (N, N),\n",
    "                  'step': (M, M),\n",
    "                  'border': (B, B),\n",
    "                  'border_weight': 0}\n",
    "\n",
    "#Define TUNet params (from dlsia)\n",
    "model_params = {'image_shape': (2880, 2880),\n",
    "                'in_channels': 1,\n",
    "                'out_channels': 2,\n",
    "                'base_channels': 8,\n",
    "                'growth_rate': 2,\n",
    "                'depth': 4}\n"
   ]
  },
  {
   "cell_type": "markdown",
   "metadata": {},
   "source": [
    "Next, we need to define training params as well as define the model"
   ]
  },
  {
   "cell_type": "code",
   "execution_count": null,
   "metadata": {},
   "outputs": [],
   "source": [
    "#Training parameters\n",
    "epoch = 10\n",
    "batch_size = 50\n",
    "lr_rate = 1e-2\n",
    "\n",
    "model = cmodel(quilter_params, model_params, device = 'cuda:0')"
   ]
  },
  {
   "cell_type": "code",
   "execution_count": null,
   "metadata": {},
   "outputs": [],
   "source": [
    "import random"
   ]
  },
  {
   "cell_type": "code",
   "execution_count": null,
   "metadata": {},
   "outputs": [],
   "source": [
    "dataset.images"
   ]
  },
  {
   "cell_type": "code",
   "execution_count": null,
   "metadata": {},
   "outputs": [],
   "source": [
    "#Train\n",
    "model.train(dataset, include_data={0: [0],\n",
    "                                   1: [0],\n",
    "                                   2: [0],\n",
    "                                   3: [0],\n",
    "                                   4: [0],\n",
    "                                   5: [0]},\n",
    "            epoch=epoch,\n",
    "            batch_size=batch_size,\n",
    "            lr_rate=lr_rate)\n",
    "\n",
    "model.save('models/test_model.pt')"
   ]
  }
 ],
 "metadata": {
  "kernelspec": {
   "display_name": "airxd-cnn",
   "language": "python",
   "name": "python3"
  },
  "language_info": {
   "codemirror_mode": {
    "name": "ipython",
    "version": 3
   },
   "file_extension": ".py",
   "mimetype": "text/x-python",
   "name": "python",
   "nbconvert_exporter": "python",
   "pygments_lexer": "ipython3",
   "version": "3.11.8"
  }
 },
 "nbformat": 4,
 "nbformat_minor": 2
}
