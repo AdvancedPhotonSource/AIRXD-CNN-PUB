{
 "cells": [
  {
   "cell_type": "code",
   "execution_count": null,
   "metadata": {},
   "outputs": [],
   "source": [
    "import os\n",
    "import imageio\n",
    "import numpy as np\n",
    "from glob import glob\n",
    "import matplotlib.cm as cm\n",
    "import matplotlib.pyplot as plt\n",
    "from airxd.mask import MASK\n",
    "from airxd.model import ARIXD\n",
    "from airxd.dataset import Dataset, parse_imctrl"
   ]
  },
  {
   "cell_type": "markdown",
   "metadata": {},
   "source": [
    "# Troubleshooting"
   ]
  },
  {
   "cell_type": "code",
   "execution_count": null,
   "metadata": {},
   "outputs": [],
   "source": [
    "temp_path = 'other_masks/'\n",
    "images = glob(temp_path + '*.tif')\n",
    "\n",
    "i = 0\n",
    "\n",
    "test_im = imageio.volread(images[i])\n",
    "#Plot positions of all nonzero elements in test_im\n",
    "nz_positions = np.nonzero(test_im)\n",
    "fig = plt.figure()\n",
    "ax = fig.add_subplot(111)\n",
    "ax.scatter(nz_positions[0], nz_positions[1], c='r', marker='o', s = 1)\n",
    "ax.set_xlabel('X')\n",
    "ax.set_ylabel('Y')\n",
    "plt.title(images[i])\n",
    "plt.show()"
   ]
  },
  {
   "cell_type": "markdown",
   "metadata": {},
   "source": [
    "# Create/load a specific dataset\n",
    "\n",
    "Here, we'll be utilizing the auto-masking process developed in __ to automatically generate labelled/segmented data for artifact identification.\n"
   ]
  },
  {
   "cell_type": "code",
   "execution_count": null,
   "metadata": {},
   "outputs": [],
   "source": [
    "Samples = glob('data/*')"
   ]
  },
  {
   "cell_type": "code",
   "execution_count": null,
   "metadata": {},
   "outputs": [],
   "source": [
    "Samples = glob('data/*')\n",
    "\n",
    "for path_to_sample in Samples:\n",
    "\n",
    "    path_to_sample = path_to_sample + '/'\n",
    "\n",
    "    if not os.path.isdir(path_to_sample +'masks'):\n",
    "        #Grabbing imctrl file and parsing its contents\n",
    "        imctrl_file = glob(path_to_sample + '*.imctrl')[0]\n",
    "        controls = parse_imctrl(imctrl_file)\n",
    "\n",
    "        #Creating mask, need to specify image size here\n",
    "        mask = MASK(controls=controls, shape=(2880,2880))\n",
    "\n",
    "        #Creating mask directory\n",
    "        os.mkdir(path_to_sample +'masks')\n",
    "        paths = glob(path_to_sample + '*.tif')\n",
    "\n",
    "        #Generate masked image for each sample image\n",
    "        for path in paths:\n",
    "            image_name = path.split('/')[-1][:-4]\n",
    "            image = imageio.volread(path)\n",
    "            result = mask.AutoSpotMask(image, esdmul=7.0)\n",
    "            imageio.imwrite(path_to_sample + f'masks/{image_name}.tif', result)\n"
   ]
  }
 ],
 "metadata": {
  "language_info": {
   "name": "python"
  }
 },
 "nbformat": 4,
 "nbformat_minor": 2
}
